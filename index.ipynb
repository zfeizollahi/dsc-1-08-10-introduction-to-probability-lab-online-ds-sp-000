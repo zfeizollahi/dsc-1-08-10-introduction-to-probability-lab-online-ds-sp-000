{
 "cells": [
  {
   "cell_type": "markdown",
   "metadata": {},
   "source": [
    "# Introduction to Probability - Lab"
   ]
  },
  {
   "cell_type": "markdown",
   "metadata": {},
   "source": [
    "## Introduction"
   ]
  },
  {
   "cell_type": "markdown",
   "metadata": {},
   "source": [
    "Now that you know what sets are, we can go on and work with two sets that are of key importance when talking about probability: the event space and the sample space. These two concepts are foundational for calculating probabilities when assuming each event in the event space *has a same probability of happening*. Typical examples are rolling a dice (if the dice is \"fair\", the chance of throwing each number between 1 and 6 is 1/6) and flipping a coin (1/2 heads vs tails). You'll get a better sense of how all of this works in this lab."
   ]
  },
  {
   "cell_type": "markdown",
   "metadata": {},
   "source": [
    "## Objectives"
   ]
  },
  {
   "cell_type": "markdown",
   "metadata": {},
   "source": [
    "You will be able to:\n",
    "\n",
    "- Learn about experiments, outcomes and event space\n",
    "- Understand probability through the law of relative frequency\n",
    "- Learn about the probability axioms\n",
    "- Learn about the addition law of probability\n",
    "- Learn that where each outcome is equally likely, the probability is equal to number of outcomes in the event space divided by number of outcomes in the sample space\n"
   ]
  },
  {
   "cell_type": "markdown",
   "metadata": {},
   "source": [
    "##  Sample space, event space and the law of relative frequency"
   ]
  },
  {
   "cell_type": "markdown",
   "metadata": {},
   "source": [
    "#### a. Let's throw a dice once: formula of Laplace"
   ]
  },
  {
   "cell_type": "markdown",
   "metadata": {},
   "source": [
    "First, create a set `roll_dice` that holds the sample space."
   ]
  },
  {
   "cell_type": "code",
   "execution_count": 1,
   "metadata": {},
   "outputs": [],
   "source": [
    "roll_dice = set([1,2,3,4,5,6])"
   ]
  },
  {
   "cell_type": "markdown",
   "metadata": {},
   "source": [
    "Now, let's assume that the event space is defined by \"throwing a number higher than 4\". This means that we consider the outcome \"successful\" if a 5 or a 6 is thrown. Create a set that holds these values."
   ]
  },
  {
   "cell_type": "code",
   "execution_count": 2,
   "metadata": {},
   "outputs": [],
   "source": [
    "event = set([5,6])"
   ]
  },
  {
   "cell_type": "markdown",
   "metadata": {},
   "source": [
    "Now use the formule $P(E) = \\dfrac{|E|}{|S|}$ to calculate the probability."
   ]
  },
  {
   "cell_type": "code",
   "execution_count": 3,
   "metadata": {},
   "outputs": [
    {
     "data": {
      "text/plain": [
       "0.3333333333333333"
      ]
     },
     "execution_count": 3,
     "metadata": {},
     "output_type": "execute_result"
    }
   ],
   "source": [
    "prob_5_6 = len(event) / len(roll_dice)\n",
    "prob_5_6  # 0.3333333333333333"
   ]
  },
  {
   "cell_type": "markdown",
   "metadata": {},
   "source": [
    "Using this formula, it should be clear that the answer is 1/3 or 0.3333....  "
   ]
  },
  {
   "cell_type": "markdown",
   "metadata": {},
   "source": [
    "#### b. Now, let's simulate rolling dice to see how the law of relative frequency works."
   ]
  },
  {
   "cell_type": "markdown",
   "metadata": {},
   "source": [
    "As mentioned in the lecture, the law of relative frequency can be used to prove certain probabilities. But how does this work exactly? You're about to find out!"
   ]
  },
  {
   "cell_type": "markdown",
   "metadata": {},
   "source": [
    "$$P(E) = \\lim_{n\\rightarrow\\infty} \\dfrac{S{(n)}}{n}$$"
   ]
  },
  {
   "cell_type": "markdown",
   "metadata": {},
   "source": [
    "As you can see in the formula, the law states that when repeating an experiment $n$ times, where $n$ is very big, and you divide the number of \"good\" outcomes by the sample space (here we call it event E), you get to the probability of the event E. It should be clear that we get a more accurate number for P(E) when $n$ grows."
   ]
  },
  {
   "cell_type": "markdown",
   "metadata": {},
   "source": [
    "Let's see how this works. First, let's randomly generate values between 1 and 6. You can use `numpy` (imported as `np`) to generate random integers between 1 and 6 by setting the correct arguments. The `np.random` module is a very useful tool for this. We helped you with the code here, but you'll get more practice and a thorough explanation later on!"
   ]
  },
  {
   "cell_type": "code",
   "execution_count": 8,
   "metadata": {},
   "outputs": [
    {
     "data": {
      "text/plain": [
       "4"
      ]
     },
     "execution_count": 8,
     "metadata": {},
     "output_type": "execute_result"
    }
   ],
   "source": [
    "import numpy as np\n",
    "np.random.randint(1,7) # you will get a random value between 1 and 6. See how it changes when you rerun"
   ]
  },
  {
   "cell_type": "markdown",
   "metadata": {},
   "source": [
    "Now, let's repeat this expermient 10 times, then 1000 times, then 1 million times, then 100 million times. \n",
    "You can do this by specifying the argument `size` within the numpy function used above. Store the values in the pre-defined variables below."
   ]
  },
  {
   "cell_type": "code",
   "execution_count": 9,
   "metadata": {},
   "outputs": [],
   "source": [
    "np.random.seed(12345) # to make sure there is no randomness\n",
    "\n",
    "dice_10 = np.random.randint(1,7,size=10)\n",
    "dice_1k = np.random.randint(1,7,size= 1000)\n",
    "dice_1m = np.random.randint(1,7,size=1000000)\n",
    "dice_100m = np.random.randint(1,7,size=100000000)"
   ]
  },
  {
   "cell_type": "code",
   "execution_count": 10,
   "metadata": {},
   "outputs": [
    {
     "data": {
      "text/plain": [
       "array([3, 6, 6, 2, 5, 2, 6, 3, 6, 2])"
      ]
     },
     "execution_count": 10,
     "metadata": {},
     "output_type": "execute_result"
    }
   ],
   "source": [
    "dice_10"
   ]
  },
  {
   "cell_type": "markdown",
   "metadata": {},
   "source": [
    "next, let's count the number of \"events\". Remember that an event here is defined as throwing a 5 or a 6. Store them in the values below."
   ]
  },
  {
   "cell_type": "code",
   "execution_count": 15,
   "metadata": {},
   "outputs": [],
   "source": [
    "#slow way\n",
    "event_10 = len([x for x in dice_10 if x in [5,6]])\n",
    "event_1k = len([x for x in dice_1k if x in [5,6]])\n",
    "event_1m = len([x for x in dice_1m if x in [5,6]])\n",
    "event_100m = len([x for x in dice_100m if x in [5,6]])"
   ]
  },
  {
   "cell_type": "code",
   "execution_count": 18,
   "metadata": {},
   "outputs": [],
   "source": [
    "#fast way\n",
    "event_10 = np.sum(dice_10>4)\n",
    "event_1k = np.sum(dice_1k>4)\n",
    "event_1m = np.sum(dice_1m>4)\n",
    "event_100m = np.sum(dice_100m>4)"
   ]
  },
  {
   "cell_type": "code",
   "execution_count": 16,
   "metadata": {},
   "outputs": [
    {
     "data": {
      "text/plain": [
       "331"
      ]
     },
     "execution_count": 16,
     "metadata": {},
     "output_type": "execute_result"
    }
   ],
   "source": [
    "event_1k"
   ]
  },
  {
   "cell_type": "markdown",
   "metadata": {},
   "source": [
    "Next, you'll divide the number of events for each $n$ by the respective values for $n$. What do you see?"
   ]
  },
  {
   "cell_type": "code",
   "execution_count": 19,
   "metadata": {},
   "outputs": [
    {
     "data": {
      "text/plain": [
       "(0.5, 0.331, 0.333657, 0.33329752)"
      ]
     },
     "execution_count": 19,
     "metadata": {},
     "output_type": "execute_result"
    }
   ],
   "source": [
    "prob_10 = event_10 / len(dice_10)\n",
    "prob_1k = event_1k / len(dice_1k)\n",
    "prob_1m = event_1m / len(dice_1m)\n",
    "prob_100m = event_100m / len(dice_100m)\n",
    "prob_10, prob_1k, prob_1m, prob_100m  # 0.5 0.331 0.333657 0.33329752"
   ]
  },
  {
   "cell_type": "markdown",
   "metadata": {},
   "source": [
    "You see that the probability converges to 0.3333333... for higher values of $n$. "
   ]
  },
  {
   "cell_type": "markdown",
   "metadata": {},
   "source": [
    "##  The Probability Axioms"
   ]
  },
  {
   "cell_type": "markdown",
   "metadata": {},
   "source": [
    "You're working at the United Nations, and want to get a better sense of the world population. \n",
    "\n",
    "You come across some numbers and find the list of probabilities of being an inhabitant for each of the seven continents (rounded up to 3 digits):"
   ]
  },
  {
   "cell_type": "markdown",
   "metadata": {},
   "source": [
    "- P(Africa) = 0.161\n",
    "- P(Antarctica) = 0.000\n",
    "- P(Asia) = 0.598\n",
    "- P(Europe) = 0.10\n",
    "- P(North-America) = 0.079\n",
    "- P(Australia) = 0.005\n",
    "- P(South-America) = 0.057"
   ]
  },
  {
   "cell_type": "markdown",
   "metadata": {},
   "source": [
    "store these values using the variable names below:"
   ]
  },
  {
   "cell_type": "code",
   "execution_count": 20,
   "metadata": {},
   "outputs": [],
   "source": [
    "P_afr = 0.161\n",
    "P_ant = 0.000\n",
    "P_as = 0.598\n",
    "P_eur = 0.10\n",
    "P_na = 0.079\n",
    "P_aus = 0.005\n",
    "P_sa = 0.057"
   ]
  },
  {
   "cell_type": "markdown",
   "metadata": {},
   "source": [
    "Now create the sample space set names `continents`. Store the sample space in a numpy array."
   ]
  },
  {
   "cell_type": "code",
   "execution_count": 21,
   "metadata": {},
   "outputs": [
    {
     "name": "stdout",
     "output_type": "stream",
     "text": [
      "[0.161 0.    0.598 0.1   0.079 0.005 0.057]\n"
     ]
    }
   ],
   "source": [
    "continents = np.array([P_afr, P_ant, P_as, P_eur, P_na, P_aus, P_sa])\n",
    "print(continents)"
   ]
  },
  {
   "cell_type": "markdown",
   "metadata": {},
   "source": [
    "We want to make sure that the three probability axioms are fulfilled, because they assure us that $(\\Omega,E,P)$ is a **probability space**:\n",
    "\n",
    "- if we have a sample space $S$ (or $\\Omega$)\n",
    "- if we have an event space $E$ and a probability measure $P$, \n",
    "- **and** the three probability axioms are fulfilled, \n",
    "\n",
    "The third axiom is fairly ad hoc, and you will basically have to deduct from the context whether individual events are independent. It is fairly straightforward, however, that people can not be inhabitants of two continents at the same time, so for now, we will assume that we're good for axiom three.\n",
    "\n",
    "However, we can use the numpy array `continents` to verify if axiom 1 and 2 are fulfilled. Create a function \"axioms\" that returns the message \"We're good!\" if both axiom 1 and 2 are fulfilled, and \"Not quite!\" if that's not the case."
   ]
  },
  {
   "cell_type": "code",
   "execution_count": 35,
   "metadata": {},
   "outputs": [],
   "source": [
    "def check_axioms(sample_space):\n",
    "    axiom_1a = (sample_space <=1).all()\n",
    "    #print(axiom_1a)\n",
    "    axiom_1b = (sample_space >=0).all()\n",
    "    #print(axiom_1b)\n",
    "    axiom_2 = np.sum(sample_space) == 1\n",
    "    #print(axiom_2)\n",
    "    if axiom_1a and axiom_1b and axiom_2:\n",
    "        return \"We're good!\"\n",
    "    else:\n",
    "        return \"Not quite\""
   ]
  },
  {
   "cell_type": "markdown",
   "metadata": {},
   "source": [
    "Now test your newly created function out on `continents`"
   ]
  },
  {
   "cell_type": "code",
   "execution_count": 30,
   "metadata": {},
   "outputs": [
    {
     "name": "stdout",
     "output_type": "stream",
     "text": [
      "True\n",
      "True\n",
      "True\n"
     ]
    },
    {
     "data": {
      "text/plain": [
       "\"We're good!\""
      ]
     },
     "execution_count": 30,
     "metadata": {},
     "output_type": "execute_result"
    }
   ],
   "source": [
    "check_axioms(continents)"
   ]
  },
  {
   "cell_type": "markdown",
   "metadata": {},
   "source": [
    "You want to make sure your test returns `\"Not quite!\"` for the following numpy arrays. Go ahead and test away!"
   ]
  },
  {
   "cell_type": "code",
   "execution_count": 31,
   "metadata": {},
   "outputs": [],
   "source": [
    "test_1 = np.array([0.05, 0.2, 0.3, 1.01])\n",
    "test_2 = np.array([0.05, 0.5, 0.6, -0.15])\n",
    "test_3 = np.array([0.043,0.05,.02,0.3,0.2])"
   ]
  },
  {
   "cell_type": "code",
   "execution_count": 38,
   "metadata": {},
   "outputs": [
    {
     "name": "stdout",
     "output_type": "stream",
     "text": [
      "Not quite\n",
      "Not quite\n",
      "Not quite\n"
     ]
    }
   ],
   "source": [
    "print(check_axioms(test_1))\n",
    "print(check_axioms(test_2))\n",
    "print(check_axioms(test_3))"
   ]
  },
  {
   "cell_type": "markdown",
   "metadata": {},
   "source": [
    "Great! We tested it and seems like our set `continents` is a true probability space."
   ]
  },
  {
   "cell_type": "markdown",
   "metadata": {},
   "source": [
    "## Some more practice on the sample and event spaces\n",
    "\n",
    "In this exercise, we'll look at possible outcomes when throwing a dice twice. For your convenience, we created the NumPy array below.\n",
    "\n",
    "Next, we'll compute a couple or probabilities associated with doing this."
   ]
  },
  {
   "cell_type": "code",
   "execution_count": 39,
   "metadata": {},
   "outputs": [],
   "source": [
    "import numpy as np\n",
    "sample_dice = np.array([(1, 1), (1, 2), (1, 3), (1, 4), (1, 5), (1, 6),\n",
    "              (2, 1), (2, 2), (2, 3), (2, 4), (2, 5), (2, 6),\n",
    "              (3, 1), (3, 2), (3, 3), (3, 4), (3, 5), (3, 6),\n",
    "              (4, 1), (4, 2), (4, 3), (4, 4), (4, 5), (4, 6),\n",
    "              (5, 1), (5, 2), (5, 3), (5, 4), (5, 5), (5, 6),\n",
    "              (6, 1), (6, 2), (6, 3), (6, 4), (6, 5), (6, 6)])"
   ]
  },
  {
   "cell_type": "markdown",
   "metadata": {},
   "source": [
    "Look at the shape of the array to reassure we haven't made any mistakes."
   ]
  },
  {
   "cell_type": "code",
   "execution_count": 40,
   "metadata": {},
   "outputs": [
    {
     "data": {
      "text/plain": [
       "(36, 2)"
      ]
     },
     "execution_count": 40,
     "metadata": {},
     "output_type": "execute_result"
    }
   ],
   "source": [
    "sample_dice.shape # should be equal to (36,2)"
   ]
  },
  {
   "cell_type": "markdown",
   "metadata": {},
   "source": [
    "Use Python to obtain the following probabilities:"
   ]
  },
  {
   "cell_type": "markdown",
   "metadata": {},
   "source": [
    "#### a. What is the probability of throwing a 5 at least once?\n",
    "\n",
    "First, use sample_dice to get \"True\" values for each time a 5 occurs."
   ]
  },
  {
   "cell_type": "code",
   "execution_count": 49,
   "metadata": {},
   "outputs": [
    {
     "data": {
      "text/plain": [
       "array([[False, False],\n",
       "       [False, False],\n",
       "       [False, False],\n",
       "       [False, False],\n",
       "       [False,  True],\n",
       "       [False, False],\n",
       "       [False, False],\n",
       "       [False, False],\n",
       "       [False, False],\n",
       "       [False, False],\n",
       "       [False,  True],\n",
       "       [False, False],\n",
       "       [False, False],\n",
       "       [False, False],\n",
       "       [False, False],\n",
       "       [False, False],\n",
       "       [False,  True],\n",
       "       [False, False],\n",
       "       [False, False],\n",
       "       [False, False],\n",
       "       [False, False],\n",
       "       [False, False],\n",
       "       [False,  True],\n",
       "       [False, False],\n",
       "       [ True, False],\n",
       "       [ True, False],\n",
       "       [ True, False],\n",
       "       [ True, False],\n",
       "       [ True,  True],\n",
       "       [ True, False],\n",
       "       [False, False],\n",
       "       [False, False],\n",
       "       [False, False],\n",
       "       [False, False],\n",
       "       [False,  True],\n",
       "       [False, False]])"
      ]
     },
     "execution_count": 49,
     "metadata": {},
     "output_type": "execute_result"
    }
   ],
   "source": [
    "set_5 = np.isin(sample_dice, 5)\n",
    "set_5"
   ]
  },
  {
   "cell_type": "markdown",
   "metadata": {},
   "source": [
    "Next, make sure that you get a value `True` for each pair where at least one 5 was thrown."
   ]
  },
  {
   "cell_type": "code",
   "execution_count": 52,
   "metadata": {},
   "outputs": [
    {
     "name": "stdout",
     "output_type": "stream",
     "text": [
      "[False False False False  True False False False False False  True False\n",
      " False False False False  True False False False False False  True False\n",
      "  True  True  True  True  True  True False False False False  True False]\n"
     ]
    }
   ],
   "source": [
    "true_5 = np.any(set_5, axis = 1)\n",
    "print(true_5)"
   ]
  },
  {
   "cell_type": "markdown",
   "metadata": {},
   "source": [
    "Applying the `sum()` function you can get to the total number of items in the event space. Divide this by the total number in the sample space."
   ]
  },
  {
   "cell_type": "code",
   "execution_count": 67,
   "metadata": {},
   "outputs": [
    {
     "name": "stdout",
     "output_type": "stream",
     "text": [
      "0.3055555555555556\n"
     ]
    }
   ],
   "source": [
    "prob_5 = np.sum(true_5) / len(sample_dice)\n",
    "print(prob_5)"
   ]
  },
  {
   "cell_type": "markdown",
   "metadata": {},
   "source": [
    "#### b. What is the probability of throwing a 5 or 6 at least once?"
   ]
  },
  {
   "cell_type": "code",
   "execution_count": 54,
   "metadata": {},
   "outputs": [],
   "source": [
    "set_5 = np.isin(sample_dice, 5)\n",
    "set_6 = np.isin(sample_dice, 6)"
   ]
  },
  {
   "cell_type": "code",
   "execution_count": 55,
   "metadata": {},
   "outputs": [
    {
     "data": {
      "text/plain": [
       "array([[False, False],\n",
       "       [False, False],\n",
       "       [False, False],\n",
       "       [False, False],\n",
       "       [False,  True],\n",
       "       [False,  True],\n",
       "       [False, False],\n",
       "       [False, False],\n",
       "       [False, False],\n",
       "       [False, False],\n",
       "       [False,  True],\n",
       "       [False,  True],\n",
       "       [False, False],\n",
       "       [False, False],\n",
       "       [False, False],\n",
       "       [False, False],\n",
       "       [False,  True],\n",
       "       [False,  True],\n",
       "       [False, False],\n",
       "       [False, False],\n",
       "       [False, False],\n",
       "       [False, False],\n",
       "       [False,  True],\n",
       "       [False,  True],\n",
       "       [ True, False],\n",
       "       [ True, False],\n",
       "       [ True, False],\n",
       "       [ True, False],\n",
       "       [ True,  True],\n",
       "       [ True,  True],\n",
       "       [ True, False],\n",
       "       [ True, False],\n",
       "       [ True, False],\n",
       "       [ True, False],\n",
       "       [ True,  True],\n",
       "       [ True,  True]])"
      ]
     },
     "execution_count": 55,
     "metadata": {},
     "output_type": "execute_result"
    }
   ],
   "source": [
    "set_5_6 = set_5 + set_6\n",
    "set_5_6"
   ]
  },
  {
   "cell_type": "code",
   "execution_count": 65,
   "metadata": {},
   "outputs": [
    {
     "name": "stdout",
     "output_type": "stream",
     "text": [
      "[False False False False  True  True False False False False  True  True\n",
      " False False False False  True  True False False False False  True  True\n",
      "  True  True  True  True  True  True  True  True  True  True  True  True]\n"
     ]
    }
   ],
   "source": [
    "set_any_5_6 = np.any(set_5_6, axis=1)\n",
    "print(set_any_5_6) "
   ]
  },
  {
   "cell_type": "code",
   "execution_count": 66,
   "metadata": {},
   "outputs": [
    {
     "name": "stdout",
     "output_type": "stream",
     "text": [
      "0.5555555555555556\n"
     ]
    }
   ],
   "source": [
    "prob_5_6 = np.sum(set_any_5_6) / len(sample_dice)\n",
    "print(prob_5_6)"
   ]
  },
  {
   "cell_type": "markdown",
   "metadata": {},
   "source": [
    "#### c. What is the probability of the outcome having a sum of exactly 8?"
   ]
  },
  {
   "cell_type": "code",
   "execution_count": 60,
   "metadata": {},
   "outputs": [
    {
     "data": {
      "text/plain": [
       "array([False, False, False, False, False, False, False, False, False,\n",
       "       False, False,  True, False, False, False, False,  True, False,\n",
       "       False, False, False,  True, False, False, False, False,  True,\n",
       "       False, False, False, False,  True, False, False, False, False])"
      ]
     },
     "execution_count": 60,
     "metadata": {},
     "output_type": "execute_result"
    }
   ],
   "source": [
    "sum_dice = np.sum(sample_dice, axis=1)\n",
    "sum_8 = np.isin(sum_dice, 8)\n",
    "sum_8"
   ]
  },
  {
   "cell_type": "code",
   "execution_count": 63,
   "metadata": {},
   "outputs": [
    {
     "name": "stdout",
     "output_type": "stream",
     "text": [
      "0.1388888888888889\n"
     ]
    }
   ],
   "source": [
    "prob_sum_8 = np.sum(sum_8) / len(sample_dice)\n",
    "print(prob_sum_8)"
   ]
  },
  {
   "cell_type": "code",
   "execution_count": 62,
   "metadata": {},
   "outputs": [
    {
     "data": {
      "text/plain": [
       "36"
      ]
     },
     "execution_count": 62,
     "metadata": {},
     "output_type": "execute_result"
    }
   ],
   "source": [
    "len(sample_dice)"
   ]
  },
  {
   "cell_type": "markdown",
   "metadata": {},
   "source": [
    "## Now let's try creating your own event space!"
   ]
  },
  {
   "cell_type": "markdown",
   "metadata": {},
   "source": [
    "A teaching assistant is holding office hours so students can make appointments. She has 6 appointments scheduled today, 3 by male students, and 3 by female students. "
   ]
  },
  {
   "cell_type": "markdown",
   "metadata": {},
   "source": [
    "Create a NumPy array to list the event space, (all the possible permutations of these appointments) the same way as we did this for you in the \"throwing a dice twice\" exercise. It will be quite a bit of typing, as your resulting NumPy array will have a shape (20,6)!"
   ]
  },
  {
   "cell_type": "code",
   "execution_count": 75,
   "metadata": {},
   "outputs": [],
   "source": [
    "sample_mf= np.array([['M', 'M', 'M', 'F', 'F', 'F'],\n",
    "                    \n",
    "                   ['M', 'M', 'F', 'M', 'F', 'F'],\n",
    "                   ['M', 'M', 'F', 'F', 'M', 'F'],\n",
    "                   ['M', 'M', 'F', 'F', 'F', 'M'],\n",
    "                    \n",
    "                   ['M', 'F', 'M', 'M', 'F', 'F'],\n",
    "                   ['M', 'F', 'M', 'F', 'M', 'F'],\n",
    "                   ['M', 'F', 'M', 'F', 'F', 'M'],  \n",
    "                     \n",
    "                   ['M', 'F', 'F', 'M', 'M', 'F'],\n",
    "                   ['M', 'F', 'F', 'M', 'F', 'M'],\n",
    "                   ['M', 'F', 'F', 'F', 'M', 'M'],\n",
    "                    \n",
    "                    \n",
    "                   ['F', 'M', 'M', 'M', 'F', 'F'],\n",
    "                   ['F', 'M', 'M', 'F', 'M', 'F'],\n",
    "                   ['F', 'M', 'M', 'F', 'F', 'M'],\n",
    "                    \n",
    "                   ['F', 'M', 'F', 'M', 'M', 'F'],\n",
    "                   ['F', 'M', 'F', 'M', 'F', 'M'],\n",
    "                   ['F', 'M', 'F', 'F', 'M', 'M'],\n",
    "                     \n",
    "                   ['F', 'F', 'M', 'M', 'M', 'F'],\n",
    "                   ['F', 'F', 'M', 'M', 'F', 'M'],\n",
    "                   ['F', 'F', 'M', 'F', 'M', 'M'],\n",
    "                     \n",
    "                   ['F', 'F', 'F', 'M', 'M', 'M']]\n",
    "                   \n",
    "                   )"
   ]
  },
  {
   "cell_type": "code",
   "execution_count": 76,
   "metadata": {},
   "outputs": [
    {
     "data": {
      "text/plain": [
       "(20, 6)"
      ]
     },
     "execution_count": 76,
     "metadata": {},
     "output_type": "execute_result"
    }
   ],
   "source": [
    "sample_mf.shape # get the shape of sample_mf"
   ]
  },
  {
   "cell_type": "code",
   "execution_count": 77,
   "metadata": {},
   "outputs": [
    {
     "name": "stdout",
     "output_type": "stream",
     "text": [
      "20\n"
     ]
    }
   ],
   "source": [
    "sample_length= len(sample_mf)\n",
    "print(sample_length)"
   ]
  },
  {
   "cell_type": "markdown",
   "metadata": {},
   "source": [
    "#### 1. Calculate the probability that at least 2 out of the first 3 appointments are with female students"
   ]
  },
  {
   "cell_type": "markdown",
   "metadata": {},
   "source": [
    "First, select the first 3 appointment slots and check for \"F\"."
   ]
  },
  {
   "cell_type": "code",
   "execution_count": 80,
   "metadata": {},
   "outputs": [
    {
     "data": {
      "text/plain": [
       "array([[False, False, False],\n",
       "       [False, False,  True],\n",
       "       [False, False,  True],\n",
       "       [False, False,  True],\n",
       "       [False,  True, False],\n",
       "       [False,  True, False],\n",
       "       [False,  True, False],\n",
       "       [False,  True,  True],\n",
       "       [False,  True,  True],\n",
       "       [False,  True,  True],\n",
       "       [ True, False, False],\n",
       "       [ True, False, False],\n",
       "       [ True, False, False],\n",
       "       [ True, False,  True],\n",
       "       [ True, False,  True],\n",
       "       [ True, False,  True],\n",
       "       [ True,  True, False],\n",
       "       [ True,  True, False],\n",
       "       [ True,  True, False],\n",
       "       [ True,  True,  True]])"
      ]
     },
     "execution_count": 80,
     "metadata": {},
     "output_type": "execute_result"
    }
   ],
   "source": [
    "first_3_F = np.isin(sample_mf[:, 0:3], 'F')\n",
    "first_3_F"
   ]
  },
  {
   "cell_type": "code",
   "execution_count": 101,
   "metadata": {},
   "outputs": [
    {
     "name": "stdout",
     "output_type": "stream",
     "text": [
      "[0 1 1 1 1 1 1 2 2 2 1 1 1 2 2 2 2 2 2 3]\n"
     ]
    }
   ],
   "source": [
    "num_F = np.sum(first_3_F, axis=1)\n",
    "print(num_F)"
   ]
  },
  {
   "cell_type": "code",
   "execution_count": 102,
   "metadata": {},
   "outputs": [
    {
     "name": "stdout",
     "output_type": "stream",
     "text": [
      "10\n"
     ]
    }
   ],
   "source": [
    "F_2plus = np.sum(num_F >1)\n",
    "print(F_2plus)"
   ]
  },
  {
   "cell_type": "code",
   "execution_count": 103,
   "metadata": {},
   "outputs": [
    {
     "name": "stdout",
     "output_type": "stream",
     "text": [
      "0.5\n"
     ]
    }
   ],
   "source": [
    "prob_F_2plus = F_2plus / sample_length\n",
    "print(prob_F_2plus)"
   ]
  },
  {
   "cell_type": "markdown",
   "metadata": {},
   "source": [
    "#### 2. Calculate the probability that after 4 appointment slots, all the female students have had an appointment"
   ]
  },
  {
   "cell_type": "code",
   "execution_count": 96,
   "metadata": {},
   "outputs": [
    {
     "data": {
      "text/plain": [
       "array([[False, False, False,  True],\n",
       "       [False, False,  True, False],\n",
       "       [False, False,  True,  True],\n",
       "       [False, False,  True,  True],\n",
       "       [False,  True, False, False],\n",
       "       [False,  True, False,  True],\n",
       "       [False,  True, False,  True],\n",
       "       [False,  True,  True, False],\n",
       "       [False,  True,  True, False],\n",
       "       [False,  True,  True,  True],\n",
       "       [ True, False, False, False],\n",
       "       [ True, False, False,  True],\n",
       "       [ True, False, False,  True],\n",
       "       [ True, False,  True, False],\n",
       "       [ True, False,  True, False],\n",
       "       [ True, False,  True,  True],\n",
       "       [ True,  True, False, False],\n",
       "       [ True,  True, False, False],\n",
       "       [ True,  True, False,  True],\n",
       "       [ True,  True,  True, False]])"
      ]
     },
     "execution_count": 96,
     "metadata": {},
     "output_type": "execute_result"
    }
   ],
   "source": [
    "first_4_F = np.isin(sample_mf[:, 0:4], 'F')\n",
    "first_4_F"
   ]
  },
  {
   "cell_type": "code",
   "execution_count": 99,
   "metadata": {},
   "outputs": [
    {
     "name": "stdout",
     "output_type": "stream",
     "text": [
      "[1 1 2 2 1 2 2 2 2 3 1 2 2 2 2 3 2 2 3 3]\n"
     ]
    }
   ],
   "source": [
    "num_F_4 = np.sum(first_4_F, axis=1)\n",
    "print(num_F_4)"
   ]
  },
  {
   "cell_type": "code",
   "execution_count": 100,
   "metadata": {},
   "outputs": [
    {
     "name": "stdout",
     "output_type": "stream",
     "text": [
      "4\n"
     ]
    }
   ],
   "source": [
    "F_2plus_4 = np.sum(num_F_4 >2)\n",
    "print(F_2plus_4)"
   ]
  },
  {
   "cell_type": "code",
   "execution_count": 105,
   "metadata": {},
   "outputs": [
    {
     "name": "stdout",
     "output_type": "stream",
     "text": [
      "0.2\n"
     ]
    }
   ],
   "source": [
    "prop_2plus_4 = F_2plus_4 / sample_length\n",
    "print(prop_2plus_4)"
   ]
  },
  {
   "cell_type": "markdown",
   "metadata": {},
   "source": [
    "You noticed that coming up with the sample space was probably the most time-consuming part of the exercise, and it would really become unfeasible to write this down for say, 10 or, even worse, 20 appointments in a row. You'll learn about methods that make this easy in the next lecture!"
   ]
  },
  {
   "cell_type": "markdown",
   "metadata": {},
   "source": [
    "## The Addition Law of Probability\n",
    "At a supermarket, we randomly select customers, and make notes of whether a certain customer owns a Visa card (event A) or an Amex credit card (event B). Some customers own both cards.\n",
    "You can assume that:\n",
    "\n",
    "- P(A) = 0.5\n",
    "- P(B) = 0.4\n",
    "- both A and B = 0.25.\n",
    "\n",
    "1) compute the probability that a selected customer has at least one credit card.\n",
    "\n",
    "90 - 25 = 65 % (because owning both cards is already counted in owning either one)\n",
    "\n",
    "2) compute the probability that a selected customer doesn't own any of the mentioned credit cards.\n",
    "\n",
    "35 % (sample space is owning either card (answer in 1) or not, so 1-65 = answer.\n",
    "\n",
    "3) compute the probability that a customer *only* owns VISA card.\n",
    "\n",
    "prob(A) - P(A & B) = .5 - .25 = 25%\n",
    "\n",
    "(You can use python here, but you don't have to)"
   ]
  },
  {
   "cell_type": "markdown",
   "metadata": {},
   "source": [
    "## Summary"
   ]
  },
  {
   "cell_type": "markdown",
   "metadata": {},
   "source": [
    "In this lab, you got to practice your knowledge on the foundations of probability through working on problems regarding the law of relative frequency, the probability axioms and the addition law of probability."
   ]
  }
 ],
 "metadata": {
  "kernelspec": {
   "display_name": "Python 3",
   "language": "python",
   "name": "python3"
  },
  "language_info": {
   "codemirror_mode": {
    "name": "ipython",
    "version": 3
   },
   "file_extension": ".py",
   "mimetype": "text/x-python",
   "name": "python",
   "nbconvert_exporter": "python",
   "pygments_lexer": "ipython3",
   "version": "3.6.6"
  }
 },
 "nbformat": 4,
 "nbformat_minor": 2
}
